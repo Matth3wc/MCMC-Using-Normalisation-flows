{
 "cells": [
  {
   "cell_type": "markdown",
   "metadata": {},
   "source": [
    "This file creates samples using the metropolis hastings algorithm, then cleans these samples using a simple binning technique."
   ]
  },
  {
   "cell_type": "code",
   "execution_count": 36,
   "metadata": {},
   "outputs": [],
   "source": [
    "import numpy as np\n",
    "import matplotlib.pyplot as plt\n",
    "from scipy.stats import beta\n",
    "from scipy.stats import norm\n",
    "\n",
    "\n",
    "#libraries\n",
    "import matplotlib.pyplot as plt\n",
    "import numpy as np\n",
    "from scipy.stats import norm, truncnorm\n",
    "from numpy.random import Generator, MT19937\n",
    "import time\n",
    "from scipy.special import logsumexp"
   ]
  },
  {
   "cell_type": "code",
   "execution_count": 37,
   "metadata": {},
   "outputs": [],
   "source": [
    "#Initializing the random number generator\n",
    "seed = int(time.time()) \n",
    "bitgen = MT19937(seed)\n",
    "rng = Generator(bitgen)  # reproducible generator"
   ]
  },
  {
   "cell_type": "code",
   "execution_count": 38,
   "metadata": {},
   "outputs": [],
   "source": [
    "# Define the function f(x) = e^(-x^2)\n",
    "def f(x):\n",
    "    return np.exp(-x**2)\n"
   ]
  },
  {
   "cell_type": "code",
   "execution_count": 39,
   "metadata": {},
   "outputs": [],
   "source": [
    "def metropolis_hastings(xo, thinning, burnin, N, step_size):\n",
    "\n",
    "    \n",
    "    \"\"\"\n",
    "    Perform Metropolis-Hastings sampling to generate samples from a Gaussian distribution.\n",
    "    \n",
    "    Parameters:\n",
    "    mu (float): Mean of the Gaussian distribution.\n",
    "    sigma (float): Standard deviation of the Gaussian distribution.\n",
    "    N (int): Number of samples to generate.\n",
    "    \n",
    "    Returns:\n",
    "    np.ndarray: Array of samples from the Gaussian distribution.\n",
    "    \"\"\"\n",
    "    accepted = 0\n",
    "    samples = []\n",
    "    x_current = xo  # Starting point\n",
    "    \n",
    "    for _ in range(N):\n",
    "        # Propose a new sample from a normal distribution centered at the current sample\n",
    "        x_proposed = x_current + rng.uniform(-step_size, step_size)\n",
    "        \n",
    "        # Compute acceptance ratio\n",
    "        acceptance_ratio = f(x_proposed) / f(x_current) # this ratio assumes, that q(x_proposed | x_current) = q(x_current | x_proposed) = 1, which is the case for symmetric proposal distributions\n",
    "        \n",
    "        # Accept or reject the proposed sample\n",
    "        if np.random.rand() < acceptance_ratio:\n",
    "            x_current = x_proposed\n",
    "            accepted += 1\n",
    "        \n",
    "        samples.append(x_current)\n",
    "    # Calculate acceptance rate\n",
    "    p_accept = accepted / len(samples)\n",
    "    # Thinning: only keep every 'thinning'-th sample\n",
    "    samples = samples[::thinning]\n",
    "    # Burn-in: discard the first 'burnin' samples\n",
    "    samples = samples[burnin:]\n",
    "    samples = np.array(samples)\n",
    "    \n",
    "    #print(p_accept)\n",
    "    \n",
    "    return np.array(samples), p_accept\n",
    "\n",
    "    # Generate N samples from the target distribution (standard normal) using rng"
   ]
  },
  {
   "cell_type": "code",
   "execution_count": 40,
   "metadata": {},
   "outputs": [],
   "source": [
    "def blocking_variance(series, min_blocks=4):\n",
    "    \"\"\"\n",
    "    Return\n",
    "        bin_sizes  – powers-of-2 block lengths\n",
    "        var_mean   – variance of the MCMC mean at each block size\n",
    "        err_var    – 1-σ uncertainty of that variance\n",
    "    \"\"\"\n",
    "    N = len(series)\n",
    "    max_power = int(np.log2(N // min_blocks))\n",
    "    bin_sizes = 2 ** np.arange(max_power + 1)\n",
    "\n",
    "    var_mean, err_var = [], []\n",
    "    for L in bin_sizes:\n",
    "        n_blocks = N // L\n",
    "        if n_blocks < min_blocks:               # need ≥ min_blocks estimates\n",
    "            break\n",
    "        # reshape   → one mean per block\n",
    "        blocks = series[:n_blocks * L].reshape(n_blocks, L).mean(axis=1)\n",
    "\n",
    "        s2      = blocks.var(ddof=1)            # unbiased σ² of block means\n",
    "        v_mean  = s2 / n_blocks                 # Var[overall mean]\n",
    "        var_mean.append(v_mean)\n",
    "\n",
    "        # 1-σ error bar from χ² statistics\n",
    "        err_var.append(v_mean * np.sqrt(2 / (n_blocks - 1)))\n",
    "\n",
    "    return bin_sizes[:len(var_mean)], np.array(var_mean), np.array(err_var)"
   ]
  },
  {
   "cell_type": "code",
   "execution_count": 41,
   "metadata": {},
   "outputs": [],
   "source": [
    "# ------------------------------------------------------------\n",
    "# simple plateau finder\n",
    "# ------------------------------------------------------------\n",
    "def plateau_variance(bin_sizes, variances, window=3, tolerance=0.01):\n",
    "    \"\"\"\n",
    "    Mean of first 'window' consecutive points whose relative stdev < tolerance.\n",
    "    Returns (variance_est, index_of_rightmost_point).\n",
    "    \"\"\"\n",
    "    if len(variances) < window:\n",
    "        return variances[-1], len(variances) - 1\n",
    "\n",
    "    for i in range(len(variances) - window + 1):\n",
    "        w = variances[i:i + window]\n",
    "        if np.std(w) / np.mean(w) < tolerance:\n",
    "            return np.mean(w), i + window - 1\n",
    "    # fallback: last point\n",
    "    return variances[-1], len(variances) - 1"
   ]
  },
  {
   "cell_type": "code",
   "execution_count": 42,
   "metadata": {},
   "outputs": [],
   "source": [
    "# --- 0. parameters ----------------------------------------\n",
    "\n",
    "N = 10000000  # Number of samples\n",
    "step_size = 4  # Step size for the proposal distribution\n",
    "xo = rng.uniform(-step_size, step_size)  # Initial point for the Markov chain rng.uniform(-step_size, step_size)\n",
    "burnin = 1000  # Number of samples to discard as burn-in\n",
    "thinning = 2  # Thinning factor for the Markov chain"
   ]
  },
  {
   "cell_type": "code",
   "execution_count": 43,
   "metadata": {},
   "outputs": [
    {
     "name": "stdout",
     "output_type": "stream",
     "text": [
      "======  blocking-plateau variance estimate  ======\n",
      "Var[mean] ≈ 2.4259e-07  ± 1.8e-09\n",
      "Std error ≈ 4.9253e-04\n"
     ]
    },
    {
     "data": {
      "image/png": "[encoded data removed]",
      "text/plain": [
       "<Figure size 800x600 with 1 Axes>"
      ]
     },
     "metadata": {},
     "output_type": "display_data"
    }
   ],
   "source": [
    "# --- 1. generate a correlated chain (AR(1)) -----------------\n",
    "markov_chain, prob_accept = metropolis_hastings(xo, thinning, burnin, N, step_size)\n",
    "\n",
    "\n",
    "# --- 2. blocking analysis with error bars ------------------\n",
    "bin_sizes, vars_mean, errs = blocking_variance(markov_chain)\n",
    "\n",
    "# automatic plateau estimate\n",
    "v_hat, idx = plateau_variance(bin_sizes, vars_mean)\n",
    "err_hat    = errs[idx]\n",
    "\n",
    "print(\"======  blocking-plateau variance estimate  ======\")\n",
    "print(f\"Var[mean] ≈ {v_hat:.4e}  ± {err_hat:.1e}\")\n",
    "print(f\"Std error ≈ {np.sqrt(v_hat):.4e}\")\n",
    "\n",
    "# 2. plot ----------------------------------------------------\n",
    "plt.figure(figsize=(8, 6))\n",
    "plt.errorbar(bin_sizes, vars_mean, yerr=errs,\n",
    "             fmt='-s', capsize=3, linewidth=1, markersize=4,\n",
    "             label='blocking estimate')\n",
    "plt.scatter(bin_sizes[idx], v_hat, s=80, color='red',\n",
    "            label='plateau pick')\n",
    "\n",
    "# <<< NEW: horizontal line through the plateau value >>>\n",
    "plt.axhline(v_hat, color='k', linestyle='--', linewidth=1,\n",
    "            label=f'plateau variance ≈ {v_hat:.2e}')\n",
    "\n",
    "plt.xscale('log'); plt.yscale('log')\n",
    "plt.xlabel(\"Bin size $L$\")\n",
    "plt.ylabel(r\"Var[$\\hat\\mu$]\")\n",
    "plt.title(\"Variance of MCMC mean vs. block size\\n(1-σ error bars)\")\n",
    "plt.legend()\n",
    "plt.tight_layout()\n",
    "plt.text(bin_sizes[0], v_hat, f\"Step size: {step_size}\", fontsize=10, color='blue', verticalalignment='bottom')\n",
    "import os\n",
    "\n",
    "# Ensure the 'plots' directory exists\n",
    "os.makedirs(\"plots\", exist_ok=True)\n",
    "\n",
    "plt.savefig(f\"plots/Variance_of_MCMC_mean_vs_block_size_step={step_size}.pdf\", format=\"pdf\")\n",
    "plt.show()\n",
    "plt.close()\n"
   ]
  },
  {
   "cell_type": "code",
   "execution_count": null,
   "metadata": {},
   "outputs": [],
   "source": []
  }
 ],
 "metadata": {
  "kernelspec": {
   "display_name": "Python 3",
   "language": "python",
   "name": "python3"
  },
  "language_info": {
   "codemirror_mode": {
    "name": "ipython",
    "version": 3
   },
   "file_extension": ".py",
   "mimetype": "text/x-python",
   "name": "python",
   "nbconvert_exporter": "python",
   "pygments_lexer": "ipython3",
   "version": "3.9.6"
  }
 },
 "nbformat": 4,
 "nbformat_minor": 2
}
