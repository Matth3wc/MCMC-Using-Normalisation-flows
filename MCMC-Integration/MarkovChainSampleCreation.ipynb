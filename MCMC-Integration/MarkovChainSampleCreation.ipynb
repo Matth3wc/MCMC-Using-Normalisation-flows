{
 "cells": [
  {
   "cell_type": "markdown",
   "metadata": {},
   "source": [
    "This file creates samples using the metropolis hastings algorithm, then cleans these samples using a simple binning technique."
   ]
  },
  {
   "cell_type": "markdown",
   "metadata": {},
   "source": []
  }
 ],
 "metadata": {
  "language_info": {
   "name": "python"
  }
 },
 "nbformat": 4,
 "nbformat_minor": 2
}
